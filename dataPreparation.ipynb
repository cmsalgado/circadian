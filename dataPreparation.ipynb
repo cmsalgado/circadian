{
 "cells": [
  {
   "cell_type": "markdown",
   "metadata": {},
   "source": [
    "# Overview \n",
    "\n",
    "This notebook was used to create the dataset used in the paper:\n",
    "\n",
    "\"Association between Circadian Variation and Mortality in Critically Ill Patients: Insights from the eICU Collaborative Research Database\".\n",
    "\n",
    "Data for this study were obtained from the [eICU Collaborative Research Database](https://www.nature.com/articles/sdata2018178#article-info) v2.0, published in April 15, 2019. This is a large multi–center critical care database made available by Philips Healthcare in partnership with the MIT Laboratory for Computational Physiology. We do not provide the eICU data. You must acquire the data yourself from https://eicu-crd.mit.edu/ after completion of the CITI \"Data or Specimens Only Research\" course. You will need to download the following tables from the eICU database:\n",
    "    \n",
    "* patient.csv\n",
    "* apachePatientResult.csv\n",
    "* vitalaperiodic.csv\n",
    "* vitalperiodic.csv\n",
    "* medication.csv\n",
    "* infusionDrug.csv\n",
    "\n",
    "Aditionally, you will need to create a materialized view of Angus sepsis criteria following the query provided [here](https://github.com/kseverso/eicu-code/blob/5875ea8e400519d62a7a9d52e3ab94550dc00b41/concepts/angus_sepsis.sql), and save it into a csv file:\n",
    "\n",
    "* angus_sepsis.csv\n"
   ]
  },
  {
   "cell_type": "markdown",
   "metadata": {},
   "source": [
    "# Outline\n",
    "\n",
    "## 1. [Import tables](#1)\n",
    "## 2. [Inclusion criteria](#2)\n",
    "### 2.1. [Adult patients](#21)\n",
    "### 2.2. [One ICU stay per patient](#22)\n",
    "### 2.3. [ICU LOS >= 3 days](#23)\n",
    "### 2.4. [APACHE, gender, hospital discharge status](#24)\n",
    "### 2.5. [Sepsis](#25)\n",
    "## 3. [Preprocess mean arterial blood pressure (MAP)](#3)\n",
    "### 3.1. [Exclude MAP observations collected before ICU admission](#31)\n",
    "### 3.2. [Exclude MAP outliers](#32)\n",
    "### 3.3. [Exclude patients with no records of MAP](#33)\n",
    "### 3.4. [Derive the date of MAP observations](#34)\n",
    "### 3.5. [Assign each observation to a day](#35)\n",
    "## 4. [Add medications and infusions](#4)\n",
    "## 5. [Calculate the median](#5)\n",
    "### 5.1. [Plot](#51)\n",
    "## 6. [Save the preprocessed data](#6)"
   ]
  },
  {
   "cell_type": "markdown",
   "metadata": {},
   "source": [
    "# 1. Import tables <a class=\"anchor\" id=\"1\"></a>\n"
   ]
  },
  {
   "cell_type": "code",
   "execution_count": 1,
   "metadata": {},
   "outputs": [
    {
     "name": "stderr",
     "output_type": "stream",
     "text": [
      "/Users/catiasalgado/anaconda3/lib/python3.7/site-packages/IPython/core/interactiveshell.py:3057: DtypeWarning: Columns (11) have mixed types. Specify dtype option on import or set low_memory=False.\n",
      "  interactivity=interactivity, compiler=compiler, result=result)\n",
      "/Users/catiasalgado/anaconda3/lib/python3.7/site-packages/numpy/lib/arraysetops.py:569: FutureWarning: elementwise comparison failed; returning scalar instead, but in the future will perform elementwise comparison\n",
      "  mask |= (ar1 == a)\n",
      "/Users/catiasalgado/anaconda3/lib/python3.7/site-packages/IPython/core/interactiveshell.py:3057: DtypeWarning: Columns (4) have mixed types. Specify dtype option on import or set low_memory=False.\n",
      "  interactivity=interactivity, compiler=compiler, result=result)\n"
     ]
    },
    {
     "data": {
      "text/plain": [
       "Index(['patienthealthsystemstayid', 'gender', 'age', 'ethnicity', 'hospitalid',\n",
       "       'wardid', 'apacheadmissiondx', 'admissionheight', 'hospitaladmittime24',\n",
       "       'hospitaladmitoffset', 'hospitaladmitsource', 'hospitaldischargeyear',\n",
       "       'hospitaldischargetime24', 'hospitaldischargeoffset',\n",
       "       'hospitaldischargelocation', 'hospitaldischargestatus', 'unittype',\n",
       "       'unitadmittime24', 'unitadmitsource', 'unitvisitnumber', 'unitstaytype',\n",
       "       'admissionweight', 'dischargeweight', 'unitdischargetime24',\n",
       "       'unitdischargeoffset', 'unitdischargelocation', 'unitdischargestatus',\n",
       "       'uniquepid'],\n",
       "      dtype='object')"
      ]
     },
     "metadata": {},
     "output_type": "display_data"
    },
    {
     "data": {
      "text/html": [
       "<div>\n",
       "<style scoped>\n",
       "    .dataframe tbody tr th:only-of-type {\n",
       "        vertical-align: middle;\n",
       "    }\n",
       "\n",
       "    .dataframe tbody tr th {\n",
       "        vertical-align: top;\n",
       "    }\n",
       "\n",
       "    .dataframe thead th {\n",
       "        text-align: right;\n",
       "    }\n",
       "</style>\n",
       "<table border=\"1\" class=\"dataframe\">\n",
       "  <thead>\n",
       "    <tr style=\"text-align: right;\">\n",
       "      <th></th>\n",
       "      <th>patienthealthsystemstayid</th>\n",
       "      <th>gender</th>\n",
       "      <th>age</th>\n",
       "      <th>ethnicity</th>\n",
       "      <th>hospitalid</th>\n",
       "      <th>wardid</th>\n",
       "      <th>apacheadmissiondx</th>\n",
       "      <th>admissionheight</th>\n",
       "      <th>hospitaladmittime24</th>\n",
       "      <th>hospitaladmitoffset</th>\n",
       "      <th>...</th>\n",
       "      <th>unitadmitsource</th>\n",
       "      <th>unitvisitnumber</th>\n",
       "      <th>unitstaytype</th>\n",
       "      <th>admissionweight</th>\n",
       "      <th>dischargeweight</th>\n",
       "      <th>unitdischargetime24</th>\n",
       "      <th>unitdischargeoffset</th>\n",
       "      <th>unitdischargelocation</th>\n",
       "      <th>unitdischargestatus</th>\n",
       "      <th>uniquepid</th>\n",
       "    </tr>\n",
       "    <tr>\n",
       "      <th>patientunitstayid</th>\n",
       "      <th></th>\n",
       "      <th></th>\n",
       "      <th></th>\n",
       "      <th></th>\n",
       "      <th></th>\n",
       "      <th></th>\n",
       "      <th></th>\n",
       "      <th></th>\n",
       "      <th></th>\n",
       "      <th></th>\n",
       "      <th></th>\n",
       "      <th></th>\n",
       "      <th></th>\n",
       "      <th></th>\n",
       "      <th></th>\n",
       "      <th></th>\n",
       "      <th></th>\n",
       "      <th></th>\n",
       "      <th></th>\n",
       "      <th></th>\n",
       "      <th></th>\n",
       "    </tr>\n",
       "  </thead>\n",
       "  <tbody>\n",
       "    <tr>\n",
       "      <th>141168</th>\n",
       "      <td>128919</td>\n",
       "      <td>Female</td>\n",
       "      <td>70</td>\n",
       "      <td>Caucasian</td>\n",
       "      <td>59</td>\n",
       "      <td>91</td>\n",
       "      <td>Rhythm disturbance (atrial, supraventricular)</td>\n",
       "      <td>152.4</td>\n",
       "      <td>15:54:00</td>\n",
       "      <td>0</td>\n",
       "      <td>...</td>\n",
       "      <td>Direct Admit</td>\n",
       "      <td>1</td>\n",
       "      <td>admit</td>\n",
       "      <td>84.3</td>\n",
       "      <td>85.8</td>\n",
       "      <td>03:50:00</td>\n",
       "      <td>3596</td>\n",
       "      <td>Death</td>\n",
       "      <td>Expired</td>\n",
       "      <td>002-34851</td>\n",
       "    </tr>\n",
       "    <tr>\n",
       "      <th>141178</th>\n",
       "      <td>128927</td>\n",
       "      <td>Female</td>\n",
       "      <td>52</td>\n",
       "      <td>Caucasian</td>\n",
       "      <td>60</td>\n",
       "      <td>83</td>\n",
       "      <td>NaN</td>\n",
       "      <td>162.6</td>\n",
       "      <td>08:56:00</td>\n",
       "      <td>-14</td>\n",
       "      <td>...</td>\n",
       "      <td>Emergency Department</td>\n",
       "      <td>1</td>\n",
       "      <td>admit</td>\n",
       "      <td>54.4</td>\n",
       "      <td>54.4</td>\n",
       "      <td>09:18:00</td>\n",
       "      <td>8</td>\n",
       "      <td>Step-Down Unit (SDU)</td>\n",
       "      <td>Alive</td>\n",
       "      <td>002-33870</td>\n",
       "    </tr>\n",
       "    <tr>\n",
       "      <th>141179</th>\n",
       "      <td>128927</td>\n",
       "      <td>Female</td>\n",
       "      <td>52</td>\n",
       "      <td>Caucasian</td>\n",
       "      <td>60</td>\n",
       "      <td>83</td>\n",
       "      <td>NaN</td>\n",
       "      <td>162.6</td>\n",
       "      <td>08:56:00</td>\n",
       "      <td>-22</td>\n",
       "      <td>...</td>\n",
       "      <td>ICU to SDU</td>\n",
       "      <td>2</td>\n",
       "      <td>stepdown/other</td>\n",
       "      <td>NaN</td>\n",
       "      <td>60.4</td>\n",
       "      <td>19:20:00</td>\n",
       "      <td>2042</td>\n",
       "      <td>Home</td>\n",
       "      <td>Alive</td>\n",
       "      <td>002-33870</td>\n",
       "    </tr>\n",
       "    <tr>\n",
       "      <th>141194</th>\n",
       "      <td>128941</td>\n",
       "      <td>Male</td>\n",
       "      <td>68</td>\n",
       "      <td>Caucasian</td>\n",
       "      <td>73</td>\n",
       "      <td>92</td>\n",
       "      <td>Sepsis, renal/UTI (including bladder)</td>\n",
       "      <td>180.3</td>\n",
       "      <td>18:18:40</td>\n",
       "      <td>-780</td>\n",
       "      <td>...</td>\n",
       "      <td>Floor</td>\n",
       "      <td>1</td>\n",
       "      <td>admit</td>\n",
       "      <td>73.9</td>\n",
       "      <td>76.7</td>\n",
       "      <td>15:31:00</td>\n",
       "      <td>4813</td>\n",
       "      <td>Floor</td>\n",
       "      <td>Alive</td>\n",
       "      <td>002-5276</td>\n",
       "    </tr>\n",
       "    <tr>\n",
       "      <th>141196</th>\n",
       "      <td>128943</td>\n",
       "      <td>Male</td>\n",
       "      <td>71</td>\n",
       "      <td>Caucasian</td>\n",
       "      <td>67</td>\n",
       "      <td>109</td>\n",
       "      <td>NaN</td>\n",
       "      <td>162.6</td>\n",
       "      <td>20:21:00</td>\n",
       "      <td>-99</td>\n",
       "      <td>...</td>\n",
       "      <td>ICU to SDU</td>\n",
       "      <td>2</td>\n",
       "      <td>stepdown/other</td>\n",
       "      <td>NaN</td>\n",
       "      <td>63.2</td>\n",
       "      <td>22:23:00</td>\n",
       "      <td>1463</td>\n",
       "      <td>Floor</td>\n",
       "      <td>Alive</td>\n",
       "      <td>002-37665</td>\n",
       "    </tr>\n",
       "  </tbody>\n",
       "</table>\n",
       "<p>5 rows × 28 columns</p>\n",
       "</div>"
      ],
      "text/plain": [
       "                   patienthealthsystemstayid  gender age  ethnicity  \\\n",
       "patientunitstayid                                                     \n",
       "141168                                128919  Female  70  Caucasian   \n",
       "141178                                128927  Female  52  Caucasian   \n",
       "141179                                128927  Female  52  Caucasian   \n",
       "141194                                128941    Male  68  Caucasian   \n",
       "141196                                128943    Male  71  Caucasian   \n",
       "\n",
       "                   hospitalid  wardid  \\\n",
       "patientunitstayid                       \n",
       "141168                     59      91   \n",
       "141178                     60      83   \n",
       "141179                     60      83   \n",
       "141194                     73      92   \n",
       "141196                     67     109   \n",
       "\n",
       "                                               apacheadmissiondx  \\\n",
       "patientunitstayid                                                  \n",
       "141168             Rhythm disturbance (atrial, supraventricular)   \n",
       "141178                                                       NaN   \n",
       "141179                                                       NaN   \n",
       "141194                     Sepsis, renal/UTI (including bladder)   \n",
       "141196                                                       NaN   \n",
       "\n",
       "                   admissionheight hospitaladmittime24  hospitaladmitoffset  \\\n",
       "patientunitstayid                                                             \n",
       "141168                       152.4            15:54:00                    0   \n",
       "141178                       162.6            08:56:00                  -14   \n",
       "141179                       162.6            08:56:00                  -22   \n",
       "141194                       180.3            18:18:40                 -780   \n",
       "141196                       162.6            20:21:00                  -99   \n",
       "\n",
       "                   ...       unitadmitsource  unitvisitnumber    unitstaytype  \\\n",
       "patientunitstayid  ...                                                          \n",
       "141168             ...          Direct Admit                1           admit   \n",
       "141178             ...  Emergency Department                1           admit   \n",
       "141179             ...            ICU to SDU                2  stepdown/other   \n",
       "141194             ...                 Floor                1           admit   \n",
       "141196             ...            ICU to SDU                2  stepdown/other   \n",
       "\n",
       "                   admissionweight dischargeweight unitdischargetime24  \\\n",
       "patientunitstayid                                                        \n",
       "141168                        84.3            85.8            03:50:00   \n",
       "141178                        54.4            54.4            09:18:00   \n",
       "141179                         NaN            60.4            19:20:00   \n",
       "141194                        73.9            76.7            15:31:00   \n",
       "141196                         NaN            63.2            22:23:00   \n",
       "\n",
       "                  unitdischargeoffset unitdischargelocation  \\\n",
       "patientunitstayid                                             \n",
       "141168                           3596                 Death   \n",
       "141178                              8  Step-Down Unit (SDU)   \n",
       "141179                           2042                  Home   \n",
       "141194                           4813                 Floor   \n",
       "141196                           1463                 Floor   \n",
       "\n",
       "                  unitdischargestatus  uniquepid  \n",
       "patientunitstayid                                 \n",
       "141168                        Expired  002-34851  \n",
       "141178                          Alive  002-33870  \n",
       "141179                          Alive  002-33870  \n",
       "141194                          Alive   002-5276  \n",
       "141196                          Alive  002-37665  \n",
       "\n",
       "[5 rows x 28 columns]"
      ]
     },
     "metadata": {},
     "output_type": "display_data"
    }
   ],
   "source": [
    "import pandas as pd\n",
    "import numpy as np\n",
    "import matplotlib.pyplot as plt\n",
    "from IPython import display\n",
    "\n",
    "plt.style.use('ggplot')\n",
    "\n",
    "base_path = '/Users/catiasalgado/eicu_data/'\n",
    "\n",
    "patient = pd.read_csv(base_path + 'patient.csv',index_col='patientunitstayid')\n",
    "patient.index = patient.index.astype(int)\n",
    "apachePatientResult = pd.read_csv(base_path + 'apachePatientResult.csv',index_col='patientunitstayid')\n",
    "angus = pd.read_csv(base_path + 'angus_sepsis.csv',index_col='patientunitstayid')\n",
    "meds = pd.read_csv(base_path + 'medication.csv',index_col='patientunitstayid')\n",
    "infusion = pd.read_csv(base_path + 'infusionDrug.csv',index_col='patientunitstayid')\n",
    "\n",
    "display.display(patient.columns)\n",
    "display.display(patient.head())"
   ]
  },
  {
   "cell_type": "code",
   "execution_count": 2,
   "metadata": {},
   "outputs": [
    {
     "name": "stdout",
     "output_type": "stream",
     "text": [
      "eICU raw patient table:\n",
      "Number of patients = 139367\n",
      "Number of ICU admissions = 200859\n",
      "Number of hospitalizations = 166355\n"
     ]
    }
   ],
   "source": [
    "def printN(df):\n",
    "    print('Number of patients = ' + str(df['uniquepid'].nunique()))\n",
    "    print('Number of ICU admissions = ' + str(df.index.nunique()))\n",
    "    print('Number of hospitalizations = ' + str(df['patienthealthsystemstayid'].nunique()))\n",
    "\n",
    "print('eICU raw patient table:')\n",
    "printN(patient)\n",
    "n = patient['uniquepid'].nunique()\n"
   ]
  },
  {
   "cell_type": "markdown",
   "metadata": {},
   "source": [
    "# 2. Inclusion criteria <a class=\"anchor\" id=\"2\"></a>\n",
    "## 2.1. Adult patients <a class=\"anchor\" id=\"21\"></a>"
   ]
  },
  {
   "cell_type": "code",
   "execution_count": 3,
   "metadata": {},
   "outputs": [
    {
     "data": {
      "text/plain": [
       "array(['70', '52', '68', '71', '77', '25', '82', '> 89', '81', '59', '43',\n",
       "       '19', '67', '73', '63', '61', '45', '76', '50', '72', '80', '48',\n",
       "       '65', '78', '30', '75', '46', '39', '79', '58', '87', '60', '85',\n",
       "       '83', '53', '86', '64', '55', '88', '84', '62', '56', '18', '38',\n",
       "       '41', '35', '54', '74', '49', '51', '47', '33', '89', '66', '36',\n",
       "       '69', '34', '44', '57', '22', '42', '27', '17', '37', '28', '40',\n",
       "       '20', '32', '23', '24', '26', '29', '31', nan, '21', '15', '16',\n",
       "       '0', '10', '1', '14', '12', '13', '8', '11', '2', '5', '4', '7',\n",
       "       '3', '6', '9'], dtype=object)"
      ]
     },
     "execution_count": 3,
     "metadata": {},
     "output_type": "execute_result"
    }
   ],
   "source": [
    "patient['age'].unique()"
   ]
  },
  {
   "cell_type": "code",
   "execution_count": 4,
   "metadata": {},
   "outputs": [],
   "source": [
    "#display.display(len(patient[patient['age'] == '> 89']))\n",
    "patient.loc[patient['age'] == '> 89','age'] = '90'\n",
    "patient['age'] = patient['age'].astype('float')\n"
   ]
  },
  {
   "cell_type": "markdown",
   "metadata": {},
   "source": [
    "Exclude ICU stays where age is missing."
   ]
  },
  {
   "cell_type": "code",
   "execution_count": 5,
   "metadata": {},
   "outputs": [],
   "source": [
    "patient.dropna(axis = 0, how = 'any', inplace = True, subset = ['age'])"
   ]
  },
  {
   "cell_type": "code",
   "execution_count": 6,
   "metadata": {},
   "outputs": [
    {
     "name": "stdout",
     "output_type": "stream",
     "text": [
      "Number of patients with missing age: 74\n",
      "Number of patients = 139293\n",
      "Number of ICU admissions = 200764\n",
      "Number of hospitalizations = 166271\n"
     ]
    }
   ],
   "source": [
    "print('Number of patients with missing age: ' + str(n - patient['uniquepid'].nunique()))\n",
    "printN(patient)\n",
    "n = len(patient['uniquepid'].unique())\n"
   ]
  },
  {
   "cell_type": "markdown",
   "metadata": {},
   "source": [
    "Exclude non-adult patients"
   ]
  },
  {
   "cell_type": "code",
   "execution_count": 7,
   "metadata": {},
   "outputs": [],
   "source": [
    "patient = patient[patient['age'] >= 15]"
   ]
  },
  {
   "cell_type": "code",
   "execution_count": 8,
   "metadata": {},
   "outputs": [
    {
     "name": "stdout",
     "output_type": "stream",
     "text": [
      "Number of patients with missing age: 108\n",
      "Number of patients = 139185\n",
      "Number of ICU admissions = 200634\n",
      "Number of hospitalizations = 166150\n"
     ]
    }
   ],
   "source": [
    "print('Number of patients with missing age: ' + str(n - patient['uniquepid'].nunique()))\n",
    "printN(patient)\n",
    "n = len(patient['uniquepid'].unique())"
   ]
  },
  {
   "cell_type": "markdown",
   "metadata": {},
   "source": [
    "## 2.2. One ICU stay per patient <a class=\"anchor\" id=\"22\"></a>\n",
    "### First exclude patients with multiple hospital admissions\n",
    "\n",
    "We're doing this because, according to the documentation, \"there is no systematic method for chronologically ordering patientHealthSystemStayID for the same patient within the same year.\"\n",
    "\n",
    "\"Also note that there is no correlation between patientUnitStayID and the order of patient stays.\"\n",
    "\n"
   ]
  },
  {
   "cell_type": "code",
   "execution_count": 9,
   "metadata": {},
   "outputs": [],
   "source": [
    "multipleHosp = patient.groupby(['uniquepid'])['patienthealthsystemstayid'].nunique()\n",
    "multipleHosp = multipleHosp[multipleHosp > 1]\n",
    "patient = patient[~patient['uniquepid'].isin(multipleHosp.index)]\n"
   ]
  },
  {
   "cell_type": "code",
   "execution_count": 10,
   "metadata": {},
   "outputs": [
    {
     "name": "stdout",
     "output_type": "stream",
     "text": [
      "Number of patients with multiple hospital admissions: 18867\n",
      "Number of patients = 120318\n",
      "Number of ICU admissions = 144701\n",
      "Number of hospitalizations = 120318\n"
     ]
    }
   ],
   "source": [
    "print('Number of patients with multiple hospital admissions: ' + str(n - patient['uniquepid'].nunique()))\n",
    "printN(patient)\n",
    "n = len(patient['uniquepid'].unique())"
   ]
  },
  {
   "cell_type": "markdown",
   "metadata": {},
   "source": [
    "### Then exclude all but the last ICU stay for patients with one hospital admission and more than one ICU stay"
   ]
  },
  {
   "cell_type": "code",
   "execution_count": 11,
   "metadata": {
    "scrolled": false
   },
   "outputs": [],
   "source": [
    "patient = patient.sort_values('unitvisitnumber').groupby('uniquepid').tail(1)\n"
   ]
  },
  {
   "cell_type": "code",
   "execution_count": 12,
   "metadata": {},
   "outputs": [
    {
     "name": "stdout",
     "output_type": "stream",
     "text": [
      "Number of patients does not change (only the number of ICU stays changes)\n",
      "Number of patients = 120318\n",
      "Number of ICU admissions = 120318\n",
      "Number of hospitalizations = 120318\n"
     ]
    }
   ],
   "source": [
    "print('Number of patients does not change (only the number of ICU stays changes)')\n",
    "printN(patient)\n",
    "n = len(patient['uniquepid'].unique())"
   ]
  },
  {
   "cell_type": "markdown",
   "metadata": {},
   "source": [
    "## 2.3. ICU LOS >= 3 days <a class=\"anchor\" id=\"23\"></a>\n",
    "\n",
    "'unitdischargeoffset' gives the offset in minutes between ICU admission and ICU discharge"
   ]
  },
  {
   "cell_type": "code",
   "execution_count": 13,
   "metadata": {},
   "outputs": [],
   "source": [
    "patient['ICULOSdays'] = patient['unitdischargeoffset'] / (60*24)\n",
    "patient['HosLOSdays'] = patient['hospitaldischargeoffset'] / (60*24)\n",
    "\n",
    "patient = patient[patient['ICULOSdays'] >= 3]"
   ]
  },
  {
   "cell_type": "code",
   "execution_count": 14,
   "metadata": {},
   "outputs": [
    {
     "name": "stdout",
     "output_type": "stream",
     "text": [
      "Number of patients with ICU LOS < 3 days: 91528\n",
      "Number of patients = 28790\n",
      "Number of ICU admissions = 28790\n",
      "Number of hospitalizations = 28790\n"
     ]
    }
   ],
   "source": [
    "print('Number of patients with ICU LOS < 3 days: ' + str(n - patient['uniquepid'].nunique()))\n",
    "printN(patient)\n",
    "n = len(patient['uniquepid'].unique())"
   ]
  },
  {
   "cell_type": "markdown",
   "metadata": {},
   "source": [
    "## 2.4. APACHE, gender, hospital discharge status <a class=\"anchor\" id=\"24\"></a>\n",
    "\n",
    "### APACHE"
   ]
  },
  {
   "cell_type": "code",
   "execution_count": 15,
   "metadata": {},
   "outputs": [
    {
     "data": {
      "text/plain": [
       "array([1])"
      ]
     },
     "execution_count": 15,
     "metadata": {},
     "output_type": "execute_result"
    }
   ],
   "source": [
    "# select one version of APACHE\n",
    "apachePatientResult = apachePatientResult[apachePatientResult['apacheversion'] == 'IVa']\n",
    "\n",
    "# make sure only one value is available by stay\n",
    "apachePatientResult.groupby(apachePatientResult.index)['apachescore'].nunique().unique()"
   ]
  },
  {
   "cell_type": "code",
   "execution_count": 16,
   "metadata": {},
   "outputs": [],
   "source": [
    "# concatenate with patient table\n",
    "patient = pd.merge(patient, apachePatientResult, how='left', left_index=True, right_index=True)\n",
    "# patient = pd.concat([patient, apachePatientResult], axis=1, join_axes=[patient.index])\n",
    "patient.dropna(axis = 0, how = 'any', inplace = True, subset = ['apachescore'])\n"
   ]
  },
  {
   "cell_type": "markdown",
   "metadata": {},
   "source": [
    "In theory, the maximum APACHE IV score is 286. \n",
    "\n",
    "source: https://intensivecarenetwork.com/Calculators/Files/Apache4.html"
   ]
  },
  {
   "cell_type": "code",
   "execution_count": 17,
   "metadata": {},
   "outputs": [
    {
     "data": {
      "text/plain": [
       "211.0"
      ]
     },
     "execution_count": 17,
     "metadata": {},
     "output_type": "execute_result"
    },
    {
     "data": {
      "image/png": "[encoded data removed]",
      "text/plain": [
       "<Figure size 432x288 with 1 Axes>"
      ]
     },
     "metadata": {
      "needs_background": "light"
     },
     "output_type": "display_data"
    }
   ],
   "source": [
    "patient['apachescore'].plot.box()\n",
    "max(patient['apachescore'])"
   ]
  },
  {
   "cell_type": "code",
   "execution_count": 18,
   "metadata": {},
   "outputs": [
    {
     "name": "stdout",
     "output_type": "stream",
     "text": [
      "Number of patients with missing APACHE: 3903\n",
      "Number of patients = 24887\n",
      "Number of ICU admissions = 24887\n",
      "Number of hospitalizations = 24887\n"
     ]
    }
   ],
   "source": [
    "print('Number of patients with missing APACHE: ' + str(n - patient['uniquepid'].nunique()))\n",
    "printN(patient)\n",
    "n = len(patient['uniquepid'].unique())"
   ]
  },
  {
   "cell_type": "markdown",
   "metadata": {},
   "source": [
    "### Gender"
   ]
  },
  {
   "cell_type": "code",
   "execution_count": 19,
   "metadata": {},
   "outputs": [
    {
     "data": {
      "text/plain": [
       "gender\n",
       "Female     11135\n",
       "Male       13749\n",
       "Other          1\n",
       "Unknown        2\n",
       "Name: uniquepid, dtype: int64"
      ]
     },
     "metadata": {},
     "output_type": "display_data"
    }
   ],
   "source": [
    "# Count gender categories\n",
    "display.display(patient.groupby(['gender'])['uniquepid'].count())\n",
    "\n",
    "# change to numeric (there is only one 'other' gender, we will assume it is missing)\n",
    "patient.loc[patient['gender'] == 'Female','gender'] = 0\n",
    "patient.loc[patient['gender'] == 'Male','gender'] = 1\n",
    "patient.loc[patient['gender'] == 'Other','gender'] = float('nan')\n",
    "patient.loc[patient['gender'] == 'Unknown','gender'] = float('nan')\n",
    "\n",
    "# drop nans\n",
    "patient.dropna(axis = 0, how = 'any', inplace = True, subset = ['gender'])\n",
    "patient['gender'] = patient['gender'].astype(int)\n",
    "# patient['genderNum'] = patient['gender']\n"
   ]
  },
  {
   "cell_type": "code",
   "execution_count": 20,
   "metadata": {},
   "outputs": [
    {
     "name": "stdout",
     "output_type": "stream",
     "text": [
      "Number of patients with missing gender: 3\n",
      "Number of patients = 24884\n",
      "Number of ICU admissions = 24884\n",
      "Number of hospitalizations = 24884\n"
     ]
    }
   ],
   "source": [
    "print('Number of patients with missing gender: ' + str(n - patient['uniquepid'].nunique()))\n",
    "printN(patient)\n",
    "n = len(patient['uniquepid'].unique())"
   ]
  },
  {
   "cell_type": "markdown",
   "metadata": {},
   "source": [
    "### Hospital dischage status"
   ]
  },
  {
   "cell_type": "code",
   "execution_count": 21,
   "metadata": {},
   "outputs": [
    {
     "data": {
      "text/plain": [
       "hospitaldischargestatus\n",
       "Alive      20734\n",
       "Expired     4150\n",
       "Name: uniquepid, dtype: int64"
      ]
     },
     "metadata": {},
     "output_type": "display_data"
    }
   ],
   "source": [
    "# Count categories\n",
    "display.display(patient.groupby(['hospitaldischargestatus'])['uniquepid'].count())\n",
    "\n",
    "# change to numeric \n",
    "patient.loc[patient['hospitaldischargestatus'] == 'Alive','hospitaldischargestatus'] = 0\n",
    "patient.loc[patient['hospitaldischargestatus'] == 'Expired','hospitaldischargestatus'] = 1\n",
    "patient['mortality'] = patient['hospitaldischargestatus']\n",
    "\n",
    "# drop nans\n",
    "patient.dropna(axis = 0, how = 'any', inplace = True, subset = ['mortality'])\n"
   ]
  },
  {
   "cell_type": "code",
   "execution_count": 22,
   "metadata": {},
   "outputs": [
    {
     "name": "stdout",
     "output_type": "stream",
     "text": [
      "Number of patients with missing hospital discharge status: 0\n",
      "After excluding patients with multiple hospitalizations, with missing age, age < 15 years, ICU LOS < 3 days, missing APACHE, missing gender, missing hospital discharge status:\n",
      "Number of patients = 24884\n",
      "Number of ICU admissions = 24884\n",
      "Number of hospitalizations = 24884\n"
     ]
    }
   ],
   "source": [
    "print('Number of patients with missing hospital discharge status: ' + str(n - patient['uniquepid'].nunique()))\n",
    "print('After excluding patients with multiple hospitalizations, with missing age, age < 15 years, ICU LOS < 3 days, missing APACHE, missing gender, missing hospital discharge status:')\n",
    "printN(patient)\n",
    "n = len(patient['uniquepid'].unique())"
   ]
  },
  {
   "cell_type": "markdown",
   "metadata": {},
   "source": [
    "## 2.5. Sepsis <a class=\"anchor\" id=\"25\"></a>\n"
   ]
  },
  {
   "cell_type": "code",
   "execution_count": 23,
   "metadata": {},
   "outputs": [],
   "source": [
    "patient = pd.merge(patient, angus, how='left', left_index=True, right_index=True)\n",
    "# patient = pd.concat([patient, angus], axis=1, join_axes=[patient.index])\n"
   ]
  },
  {
   "cell_type": "code",
   "execution_count": 24,
   "metadata": {},
   "outputs": [
    {
     "name": "stdout",
     "output_type": "stream",
     "text": [
      "Number of patients with missing sepsis: 0\n",
      "Number of patients = 24884\n",
      "Number of ICU admissions = 24884\n",
      "Number of hospitalizations = 24884\n"
     ]
    }
   ],
   "source": [
    "n2 = patient[patient['angus'].isna()].index.nunique()\n",
    "print('Number of patients with missing sepsis: ' + str(n2))\n",
    "printN(patient)\n",
    "n = len(patient['uniquepid'].unique())"
   ]
  },
  {
   "cell_type": "markdown",
   "metadata": {},
   "source": [
    "# 3. Preprocess mean arterial blood pressure (MAP) <a class=\"anchor\" id=\"3\"></a>\n",
    "\n",
    "Data will be imported in chunks from the 'vitalaperiodic' and 'vitalperiodic' tables, for the population of interest defined in the dataframe patient. Don't forget to change the name of the path."
   ]
  },
  {
   "cell_type": "markdown",
   "metadata": {},
   "source": [
    "### table vitalaperiodic"
   ]
  },
  {
   "cell_type": "code",
   "execution_count": 25,
   "metadata": {},
   "outputs": [
    {
     "name": "stdout",
     "output_type": "stream",
     "text": [
      "Number of rows in csv: 25075075\n",
      "Number of chunks: 26\n"
     ]
    },
    {
     "name": "stderr",
     "output_type": "stream",
     "text": [
      "/Users/catiasalgado/anaconda3/lib/python3.7/site-packages/ipykernel_launcher.py:20: FutureWarning: \n",
      "Passing list-likes to .loc or [] with any missing label will raise\n",
      "KeyError in the future, you can use .reindex() as an alternative.\n",
      "\n",
      "See the documentation here:\n",
      "https://pandas.pydata.org/pandas-docs/stable/indexing.html#deprecate-loc-reindex-listlike\n"
     ]
    },
    {
     "name": "stdout",
     "output_type": "stream",
     "text": [
      "1/26\n",
      "2/26\n",
      "3/26\n",
      "4/26\n",
      "5/26\n",
      "6/26\n",
      "7/26\n",
      "8/26\n",
      "9/26\n",
      "10/26\n",
      "11/26\n",
      "12/26\n",
      "13/26\n",
      "14/26\n",
      "15/26\n",
      "16/26\n",
      "17/26\n",
      "18/26\n",
      "19/26\n",
      "20/26\n",
      "21/26\n",
      "22/26\n",
      "23/26\n",
      "24/26\n",
      "25/26\n",
      "26/26\n"
     ]
    }
   ],
   "source": [
    "import math\n",
    "\n",
    "# observationoffset: number of minutes from unit admit time that the periodic value was entered\n",
    "columns_of_interest = ['observationoffset', 'noninvasivemean']\n",
    "icustays_of_interest = patient.index.unique()\n",
    "\n",
    "chunksize = 10 ** 6\n",
    "chunks = []\n",
    "\n",
    "# CSV, being row-based, does not allow a process to know how many lines there are in it until after it has all been scanned.\n",
    "# Very minimal scanning is necessary, though, assuming the CSV file is well formed:\n",
    "# Change the name of the path\n",
    "nrows = sum(1 for row in open('/Users/catiasalgado/eICU_data/vitalaperiodic.csv', 'r'))\n",
    "print('Number of rows in csv: ' + str(nrows))\n",
    "nchunks = math.ceil(nrows/chunksize)\n",
    "print('Number of chunks: ' + str(nchunks))\n",
    "\n",
    "for chunk in pd.read_csv('/Users/catiasalgado/eICU_data/vitalaperiodic.csv', index_col='patientunitstayid' , chunksize=chunksize):\n",
    "    chunk = chunk[columns_of_interest]\n",
    "    chunk = chunk.loc[icustays_of_interest]\n",
    "    chunk.dropna(axis = 0, how = 'any', inplace=True)\n",
    "    chunks.append(chunk)\n",
    "    print(str(len(chunks)) + '/' + str(nchunks))\n",
    "\n",
    "dataap = pd.concat(chunks)\n",
    "# convert observationoffset to hours\n",
    "dataap['observationoffset'] = dataap['observationoffset']/60\n"
   ]
  },
  {
   "cell_type": "markdown",
   "metadata": {},
   "source": [
    "### table vitalperiodic"
   ]
  },
  {
   "cell_type": "code",
   "execution_count": 26,
   "metadata": {
    "scrolled": false
   },
   "outputs": [
    {
     "name": "stdout",
     "output_type": "stream",
     "text": [
      "Number of rows in csv: 146671643\n",
      "Number of chunks: 147\n"
     ]
    },
    {
     "name": "stderr",
     "output_type": "stream",
     "text": [
      "/Users/catiasalgado/anaconda3/lib/python3.7/site-packages/ipykernel_launcher.py:20: FutureWarning: \n",
      "Passing list-likes to .loc or [] with any missing label will raise\n",
      "KeyError in the future, you can use .reindex() as an alternative.\n",
      "\n",
      "See the documentation here:\n",
      "https://pandas.pydata.org/pandas-docs/stable/indexing.html#deprecate-loc-reindex-listlike\n"
     ]
    },
    {
     "name": "stdout",
     "output_type": "stream",
     "text": [
      "1/147\n",
      "2/147\n",
      "3/147\n",
      "4/147\n",
      "5/147\n",
      "6/147\n",
      "7/147\n",
      "8/147\n",
      "9/147\n",
      "10/147\n",
      "11/147\n",
      "12/147\n",
      "13/147\n",
      "14/147\n",
      "15/147\n",
      "16/147\n",
      "17/147\n",
      "18/147\n",
      "19/147\n",
      "20/147\n",
      "21/147\n",
      "22/147\n",
      "23/147\n",
      "24/147\n",
      "25/147\n",
      "26/147\n",
      "27/147\n",
      "28/147\n",
      "29/147\n",
      "30/147\n",
      "31/147\n",
      "32/147\n",
      "33/147\n",
      "34/147\n",
      "35/147\n",
      "36/147\n",
      "37/147\n",
      "38/147\n",
      "39/147\n",
      "40/147\n",
      "41/147\n",
      "42/147\n",
      "43/147\n",
      "44/147\n",
      "45/147\n",
      "46/147\n",
      "47/147\n",
      "48/147\n",
      "49/147\n",
      "50/147\n",
      "51/147\n",
      "52/147\n",
      "53/147\n",
      "54/147\n",
      "55/147\n",
      "56/147\n",
      "57/147\n",
      "58/147\n",
      "59/147\n",
      "60/147\n",
      "61/147\n",
      "62/147\n",
      "63/147\n",
      "64/147\n",
      "65/147\n",
      "66/147\n",
      "67/147\n",
      "68/147\n",
      "69/147\n",
      "70/147\n",
      "71/147\n",
      "72/147\n",
      "73/147\n",
      "74/147\n",
      "75/147\n",
      "76/147\n",
      "77/147\n",
      "78/147\n",
      "79/147\n",
      "80/147\n",
      "81/147\n",
      "82/147\n",
      "83/147\n",
      "84/147\n",
      "85/147\n",
      "86/147\n",
      "87/147\n",
      "88/147\n",
      "89/147\n",
      "90/147\n",
      "91/147\n",
      "92/147\n",
      "93/147\n",
      "94/147\n",
      "95/147\n",
      "96/147\n",
      "97/147\n",
      "98/147\n",
      "99/147\n",
      "100/147\n",
      "101/147\n",
      "102/147\n",
      "103/147\n",
      "104/147\n",
      "105/147\n",
      "106/147\n",
      "107/147\n",
      "108/147\n",
      "109/147\n",
      "110/147\n",
      "111/147\n",
      "112/147\n",
      "113/147\n",
      "114/147\n",
      "115/147\n",
      "116/147\n",
      "117/147\n",
      "118/147\n",
      "119/147\n",
      "120/147\n",
      "121/147\n",
      "122/147\n",
      "123/147\n",
      "124/147\n",
      "125/147\n",
      "126/147\n",
      "127/147\n",
      "128/147\n",
      "129/147\n",
      "130/147\n",
      "131/147\n",
      "132/147\n",
      "133/147\n",
      "134/147\n",
      "135/147\n",
      "136/147\n",
      "137/147\n",
      "138/147\n",
      "139/147\n",
      "140/147\n",
      "141/147\n",
      "142/147\n",
      "143/147\n",
      "144/147\n",
      "145/147\n",
      "146/147\n",
      "147/147\n"
     ]
    }
   ],
   "source": [
    "import math\n",
    "\n",
    "# observationoffset: number of minutes from unit admit time that the periodic value was entered\n",
    "columns_of_interest = ['observationoffset', 'systemicmean']\n",
    "icustays_of_interest = patient.index.unique()\n",
    "\n",
    "chunksize = 10 ** 6\n",
    "chunks = []\n",
    "\n",
    "# CSV, being row-based, does not allow a process to know how many lines there are in it until after it has all been scanned.\n",
    "# Very minimal scanning is necessary, though, assuming the CSV file is well formed:\n",
    "# Change the name of the path\n",
    "nrows = sum(1 for row in open('/Users/catiasalgado/eICU_data/vitalperiodic.csv', 'r'))\n",
    "print('Number of rows in csv: ' + str(nrows))\n",
    "nchunks = math.ceil(nrows/chunksize)\n",
    "print('Number of chunks: ' + str(nchunks))\n",
    "\n",
    "for chunk in pd.read_csv('/Users/catiasalgado/eICU_data/vitalperiodic.csv', index_col='patientunitstayid' , chunksize=chunksize):\n",
    "    chunk = chunk[columns_of_interest]\n",
    "    chunk = chunk.loc[icustays_of_interest]\n",
    "    chunk.dropna(axis = 0, how = 'any', inplace=True)\n",
    "    chunks.append(chunk)\n",
    "    print(str(len(chunks)) + '/' + str(nchunks))\n",
    "\n",
    "datap = pd.concat(chunks)\n",
    "# convert observationoffset to hours\n",
    "datap['observationoffset'] = datap['observationoffset']/60\n",
    "# change name to concatenate with vitalaperiodic\n",
    "datap.rename(columns={'systemicmean': 'noninvasivemean'}, inplace=True)\n"
   ]
  },
  {
   "cell_type": "markdown",
   "metadata": {},
   "source": [
    "### Concatenate vitalperiodic with vitalaperiodic"
   ]
  },
  {
   "cell_type": "code",
   "execution_count": 27,
   "metadata": {},
   "outputs": [
    {
     "data": {
      "text/html": [
       "<div>\n",
       "<style scoped>\n",
       "    .dataframe tbody tr th:only-of-type {\n",
       "        vertical-align: middle;\n",
       "    }\n",
       "\n",
       "    .dataframe tbody tr th {\n",
       "        vertical-align: top;\n",
       "    }\n",
       "\n",
       "    .dataframe thead th {\n",
       "        text-align: right;\n",
       "    }\n",
       "</style>\n",
       "<table border=\"1\" class=\"dataframe\">\n",
       "  <thead>\n",
       "    <tr style=\"text-align: right;\">\n",
       "      <th></th>\n",
       "      <th>observationoffset</th>\n",
       "      <th>noninvasivemean</th>\n",
       "    </tr>\n",
       "    <tr>\n",
       "      <th>patientunitstayid</th>\n",
       "      <th></th>\n",
       "      <th></th>\n",
       "    </tr>\n",
       "  </thead>\n",
       "  <tbody>\n",
       "    <tr>\n",
       "      <th>210172</th>\n",
       "      <td>124.950000</td>\n",
       "      <td>47.0</td>\n",
       "    </tr>\n",
       "    <tr>\n",
       "      <th>210172</th>\n",
       "      <td>118.866667</td>\n",
       "      <td>84.0</td>\n",
       "    </tr>\n",
       "    <tr>\n",
       "      <th>210172</th>\n",
       "      <td>105.916667</td>\n",
       "      <td>63.0</td>\n",
       "    </tr>\n",
       "    <tr>\n",
       "      <th>210172</th>\n",
       "      <td>64.233333</td>\n",
       "      <td>93.0</td>\n",
       "    </tr>\n",
       "    <tr>\n",
       "      <th>210172</th>\n",
       "      <td>126.016667</td>\n",
       "      <td>42.0</td>\n",
       "    </tr>\n",
       "  </tbody>\n",
       "</table>\n",
       "</div>"
      ],
      "text/plain": [
       "                   observationoffset  noninvasivemean\n",
       "patientunitstayid                                    \n",
       "210172                    124.950000             47.0\n",
       "210172                    118.866667             84.0\n",
       "210172                    105.916667             63.0\n",
       "210172                     64.233333             93.0\n",
       "210172                    126.016667             42.0"
      ]
     },
     "execution_count": 27,
     "metadata": {},
     "output_type": "execute_result"
    }
   ],
   "source": [
    "data = pd.concat([dataap,datap])\n",
    "data.head()"
   ]
  },
  {
   "cell_type": "code",
   "execution_count": 28,
   "metadata": {},
   "outputs": [
    {
     "data": {
      "text/plain": [
       "24711"
      ]
     },
     "execution_count": 28,
     "metadata": {},
     "output_type": "execute_result"
    }
   ],
   "source": [
    "data.index.nunique()"
   ]
  },
  {
   "cell_type": "markdown",
   "metadata": {},
   "source": [
    "## 3.1. Exclude MAP observations collected before ICU admission <a class=\"anchor\" id=\"31\"></a>"
   ]
  },
  {
   "cell_type": "code",
   "execution_count": 29,
   "metadata": {},
   "outputs": [
    {
     "name": "stdout",
     "output_type": "stream",
     "text": [
      "Excluded patients: 0\n"
     ]
    }
   ],
   "source": [
    "n2 = data.index.nunique()\n",
    "data = data[data['observationoffset']>=0]\n",
    "print('Excluded patients: '+ \n",
    "      str(n2 - data.index.nunique()))\n"
   ]
  },
  {
   "cell_type": "markdown",
   "metadata": {},
   "source": [
    "## 3.2. Exclude MAP outliers <a class=\"anchor\" id=\"32\"></a>"
   ]
  },
  {
   "cell_type": "code",
   "execution_count": 30,
   "metadata": {},
   "outputs": [],
   "source": [
    "def outlier_score(df):\n",
    "    return df[(df['noninvasivemean'] <= df['noninvasivemean'].mean() + 3*df['noninvasivemean'].std()) & (df['noninvasivemean'] >= df['noninvasivemean'].mean() - 3*df['noninvasivemean'].std())]\n",
    "\n",
    "n2 = data.shape[0]\n",
    "n3 = data.index.nunique()\n",
    "data = data.groupby('patientunitstayid').apply(outlier_score)\n",
    "data = data.reset_index(level=0, drop=True)\n",
    "\n",
    "#data.to_csv('map_nooutliers_v2_0.csv')\n"
   ]
  },
  {
   "cell_type": "code",
   "execution_count": 31,
   "metadata": {},
   "outputs": [
    {
     "name": "stdout",
     "output_type": "stream",
     "text": [
      "Excluded patients: 3\n",
      "Excluded outliers: 0.952%\n",
      "Number of observations: 18248501\n"
     ]
    }
   ],
   "source": [
    "print('Excluded patients: ' + str(round((n3 - data.index.nunique()))))\n",
    "print('Excluded outliers: ' + str(round((n2 - data.shape[0])*100/data.shape[0],3)) +'%')\n",
    "print('Number of observations: ' + str(data.shape[0]))"
   ]
  },
  {
   "cell_type": "markdown",
   "metadata": {},
   "source": [
    "## 3.3. Exclude patients with no records of MAP <a class=\"anchor\" id=\"33\"></a>\n"
   ]
  },
  {
   "cell_type": "code",
   "execution_count": 32,
   "metadata": {},
   "outputs": [
    {
     "data": {
      "text/plain": [
       "Int64Index([ 208160,  318919,  324681,  327115,  333127,  350712,  352105,\n",
       "             359456,  365045,  365254,\n",
       "            ...\n",
       "            3197252, 3197717, 3197787, 3197798, 3198081, 3198089, 3199087,\n",
       "            3199317, 3199920, 3200361],\n",
       "           dtype='int64', name='patientunitstayid', length=176)"
      ]
     },
     "execution_count": 32,
     "metadata": {},
     "output_type": "execute_result"
    }
   ],
   "source": [
    "patient.index.unique().difference(data.index.unique())"
   ]
  },
  {
   "cell_type": "code",
   "execution_count": 33,
   "metadata": {},
   "outputs": [
    {
     "name": "stdout",
     "output_type": "stream",
     "text": [
      "Number of patients with missing MAP: 176\n",
      "After excluding missing MAP:\n",
      "Number of patients = 24708\n",
      "Number of ICU admissions = 24708\n",
      "Number of hospitalizations = 24708\n"
     ]
    }
   ],
   "source": [
    "n2 = patient.index.nunique()\n",
    "\n",
    "patient.drop(labels=patient.index.unique().difference(data.index.unique()), inplace=True)\n",
    "\n",
    "print('Number of patients with missing MAP: ' + str(n2 - patient['uniquepid'].nunique()))\n",
    "\n",
    "print('After excluding missing MAP:')\n",
    "printN(patient)"
   ]
  },
  {
   "cell_type": "markdown",
   "metadata": {},
   "source": [
    "## 3.4. Derive the date of MAP observations <a class=\"anchor\" id=\"34\"></a>\n",
    "\n",
    "We want to know the exact time of day at which the MAP was measured. In order to do so, we have to compare the observation time of MAP, which is given in minutes elapsed since ICU admission in the 'vitalaperiodic' table, to the time of admission from the 'patient' table, which is given in 'yyyy-mm-dd hh-mm-ss\".\n"
   ]
  },
  {
   "cell_type": "code",
   "execution_count": 34,
   "metadata": {},
   "outputs": [
    {
     "data": {
      "text/html": [
       "<div>\n",
       "<style scoped>\n",
       "    .dataframe tbody tr th:only-of-type {\n",
       "        vertical-align: middle;\n",
       "    }\n",
       "\n",
       "    .dataframe tbody tr th {\n",
       "        vertical-align: top;\n",
       "    }\n",
       "\n",
       "    .dataframe thead th {\n",
       "        text-align: right;\n",
       "    }\n",
       "</style>\n",
       "<table border=\"1\" class=\"dataframe\">\n",
       "  <thead>\n",
       "    <tr style=\"text-align: right;\">\n",
       "      <th></th>\n",
       "      <th>observationoffset</th>\n",
       "      <th>noninvasivemean</th>\n",
       "      <th>unitadmittime24</th>\n",
       "      <th>observationtime24</th>\n",
       "      <th>hourofDay</th>\n",
       "      <th>hourSinceAdm</th>\n",
       "    </tr>\n",
       "    <tr>\n",
       "      <th>patientunitstayid</th>\n",
       "      <th></th>\n",
       "      <th></th>\n",
       "      <th></th>\n",
       "      <th></th>\n",
       "      <th></th>\n",
       "      <th></th>\n",
       "    </tr>\n",
       "  </thead>\n",
       "  <tbody>\n",
       "    <tr>\n",
       "      <th>141233</th>\n",
       "      <td>73.783333</td>\n",
       "      <td>67.0</td>\n",
       "      <td>17:28:00</td>\n",
       "      <td>3 days 19:14:59.999998</td>\n",
       "      <td>19</td>\n",
       "      <td>73.0</td>\n",
       "    </tr>\n",
       "    <tr>\n",
       "      <th>141233</th>\n",
       "      <td>175.766667</td>\n",
       "      <td>77.0</td>\n",
       "      <td>17:28:00</td>\n",
       "      <td>8 days 01:14:00.000001</td>\n",
       "      <td>1</td>\n",
       "      <td>175.0</td>\n",
       "    </tr>\n",
       "    <tr>\n",
       "      <th>141233</th>\n",
       "      <td>33.500000</td>\n",
       "      <td>60.0</td>\n",
       "      <td>17:28:00</td>\n",
       "      <td>2 days 02:58:00</td>\n",
       "      <td>2</td>\n",
       "      <td>33.0</td>\n",
       "    </tr>\n",
       "    <tr>\n",
       "      <th>141233</th>\n",
       "      <td>74.033333</td>\n",
       "      <td>63.0</td>\n",
       "      <td>17:28:00</td>\n",
       "      <td>3 days 19:29:59.999998</td>\n",
       "      <td>19</td>\n",
       "      <td>74.0</td>\n",
       "    </tr>\n",
       "    <tr>\n",
       "      <th>141233</th>\n",
       "      <td>69.766667</td>\n",
       "      <td>76.0</td>\n",
       "      <td>17:28:00</td>\n",
       "      <td>3 days 15:14:00.000001</td>\n",
       "      <td>15</td>\n",
       "      <td>69.0</td>\n",
       "    </tr>\n",
       "  </tbody>\n",
       "</table>\n",
       "</div>"
      ],
      "text/plain": [
       "                   observationoffset  noninvasivemean unitadmittime24  \\\n",
       "patientunitstayid                                                       \n",
       "141233                     73.783333             67.0        17:28:00   \n",
       "141233                    175.766667             77.0        17:28:00   \n",
       "141233                     33.500000             60.0        17:28:00   \n",
       "141233                     74.033333             63.0        17:28:00   \n",
       "141233                     69.766667             76.0        17:28:00   \n",
       "\n",
       "                       observationtime24  hourofDay  hourSinceAdm  \n",
       "patientunitstayid                                                  \n",
       "141233            3 days 19:14:59.999998         19          73.0  \n",
       "141233            8 days 01:14:00.000001          1         175.0  \n",
       "141233                   2 days 02:58:00          2          33.0  \n",
       "141233            3 days 19:29:59.999998         19          74.0  \n",
       "141233            3 days 15:14:00.000001         15          69.0  "
      ]
     },
     "execution_count": 34,
     "metadata": {},
     "output_type": "execute_result"
    }
   ],
   "source": [
    "from datetime import datetime\n",
    "from datetime import timedelta\n",
    "\n",
    "data['unitadmittime24'] = pd.to_timedelta(patient['unitadmittime24'])\n",
    "data['observationtime24'] = pd.to_timedelta(data['unitadmittime24']) + pd.to_timedelta(data['observationoffset'], unit='h')\n",
    "\n",
    "data['hourofDay'] = data['observationtime24'].dt.components.hours\n",
    "data['hourSinceAdm'] = data['observationoffset'].apply(np.floor)\n",
    "\n",
    "data.head()"
   ]
  },
  {
   "cell_type": "markdown",
   "metadata": {},
   "source": [
    "## 3.5. Assign each observation to a day <a class=\"anchor\" id=\"35\"></a>\n",
    "\n",
    "We want to have observations in day 1, day 2, ... day x."
   ]
  },
  {
   "cell_type": "code",
   "execution_count": 35,
   "metadata": {},
   "outputs": [],
   "source": [
    "#data['Day'] = np.ceil(data['hourSinceAdm']/24)         -------->   deprecated\n",
    "#data.loc[data['Day'] == 0, 'Day'] = 1                  -------->   deprecated\n",
    "\n",
    "data['Day'] = np.floor(data['observationoffset']/24)   # -------->   correct\n",
    "data['Day'] = data['Day'] + 1                          # -------->   correct\n"
   ]
  },
  {
   "cell_type": "markdown",
   "metadata": {},
   "source": [
    "# 4. Add medications and infusions <a class=\"anchor\" id=\"4\"></a>\n",
    "\n",
    "We'll add binary features indicating if the patient was under medications or infusions during the first 24 hours"
   ]
  },
  {
   "cell_type": "code",
   "execution_count": 36,
   "metadata": {},
   "outputs": [
    {
     "name": "stderr",
     "output_type": "stream",
     "text": [
      "/Users/catiasalgado/anaconda3/lib/python3.7/site-packages/ipykernel_launcher.py:2: FutureWarning: \n",
      "Passing list-likes to .loc or [] with any missing label will raise\n",
      "KeyError in the future, you can use .reindex() as an alternative.\n",
      "\n",
      "See the documentation here:\n",
      "https://pandas.pydata.org/pandas-docs/stable/indexing.html#deprecate-loc-reindex-listlike\n",
      "  \n",
      "/Users/catiasalgado/anaconda3/lib/python3.7/site-packages/ipykernel_launcher.py:3: FutureWarning: \n",
      "Passing list-likes to .loc or [] with any missing label will raise\n",
      "KeyError in the future, you can use .reindex() as an alternative.\n",
      "\n",
      "See the documentation here:\n",
      "https://pandas.pydata.org/pandas-docs/stable/indexing.html#deprecate-loc-reindex-listlike\n",
      "  This is separate from the ipykernel package so we can avoid doing imports until\n"
     ]
    },
    {
     "name": "stdout",
     "output_type": "stream",
     "text": [
      "Medications\n"
     ]
    },
    {
     "data": {
      "text/html": [
       "<div>\n",
       "<style scoped>\n",
       "    .dataframe tbody tr th:only-of-type {\n",
       "        vertical-align: middle;\n",
       "    }\n",
       "\n",
       "    .dataframe tbody tr th {\n",
       "        vertical-align: top;\n",
       "    }\n",
       "\n",
       "    .dataframe thead th {\n",
       "        text-align: right;\n",
       "    }\n",
       "</style>\n",
       "<table border=\"1\" class=\"dataframe\">\n",
       "  <thead>\n",
       "    <tr style=\"text-align: right;\">\n",
       "      <th></th>\n",
       "      <th>drugorderoffset</th>\n",
       "      <th>drugstartoffset</th>\n",
       "      <th>drugstopoffset</th>\n",
       "      <th>drugordercancelled</th>\n",
       "      <th>drugname</th>\n",
       "      <th>dosage</th>\n",
       "    </tr>\n",
       "    <tr>\n",
       "      <th>patientunitstayid</th>\n",
       "      <th></th>\n",
       "      <th></th>\n",
       "      <th></th>\n",
       "      <th></th>\n",
       "      <th></th>\n",
       "      <th></th>\n",
       "    </tr>\n",
       "  </thead>\n",
       "  <tbody>\n",
       "    <tr>\n",
       "      <th>2090162</th>\n",
       "      <td>0.033333</td>\n",
       "      <td>-3.250000</td>\n",
       "      <td>-0.016667</td>\n",
       "      <td>No</td>\n",
       "      <td>SODIUM CHLORIDE 0.9 % SYRINGE : 10 ML SYRINGE</td>\n",
       "      <td>3 mL</td>\n",
       "    </tr>\n",
       "    <tr>\n",
       "      <th>2090162</th>\n",
       "      <td>0.033333</td>\n",
       "      <td>2.000000</td>\n",
       "      <td>110.333333</td>\n",
       "      <td>No</td>\n",
       "      <td>SODIUM CHLORIDE 0.9 % SYRINGE : 10 ML SYRINGE</td>\n",
       "      <td>3 mL</td>\n",
       "    </tr>\n",
       "    <tr>\n",
       "      <th>2090162</th>\n",
       "      <td>0.750000</td>\n",
       "      <td>4.000000</td>\n",
       "      <td>110.333333</td>\n",
       "      <td>No</td>\n",
       "      <td>BAYER CHEWABLE</td>\n",
       "      <td>81 mg</td>\n",
       "    </tr>\n",
       "    <tr>\n",
       "      <th>2090162</th>\n",
       "      <td>0.750000</td>\n",
       "      <td>0.633333</td>\n",
       "      <td>110.333333</td>\n",
       "      <td>No</td>\n",
       "      <td>MIRALAX</td>\n",
       "      <td>17 Gram</td>\n",
       "    </tr>\n",
       "    <tr>\n",
       "      <th>2090162</th>\n",
       "      <td>0.883333</td>\n",
       "      <td>3.000000</td>\n",
       "      <td>6.250000</td>\n",
       "      <td>No</td>\n",
       "      <td>NaN</td>\n",
       "      <td>NaN</td>\n",
       "    </tr>\n",
       "  </tbody>\n",
       "</table>\n",
       "</div>"
      ],
      "text/plain": [
       "                   drugorderoffset  drugstartoffset  drugstopoffset  \\\n",
       "patientunitstayid                                                     \n",
       "2090162                   0.033333        -3.250000       -0.016667   \n",
       "2090162                   0.033333         2.000000      110.333333   \n",
       "2090162                   0.750000         4.000000      110.333333   \n",
       "2090162                   0.750000         0.633333      110.333333   \n",
       "2090162                   0.883333         3.000000        6.250000   \n",
       "\n",
       "                  drugordercancelled  \\\n",
       "patientunitstayid                      \n",
       "2090162                           No   \n",
       "2090162                           No   \n",
       "2090162                           No   \n",
       "2090162                           No   \n",
       "2090162                           No   \n",
       "\n",
       "                                                        drugname   dosage  \n",
       "patientunitstayid                                                          \n",
       "2090162            SODIUM CHLORIDE 0.9 % SYRINGE : 10 ML SYRINGE     3 mL  \n",
       "2090162            SODIUM CHLORIDE 0.9 % SYRINGE : 10 ML SYRINGE     3 mL  \n",
       "2090162                                           BAYER CHEWABLE    81 mg  \n",
       "2090162                                                  MIRALAX  17 Gram  \n",
       "2090162                                                      NaN      NaN  "
      ]
     },
     "metadata": {},
     "output_type": "display_data"
    },
    {
     "name": "stdout",
     "output_type": "stream",
     "text": [
      "\n",
      "Infusions\n"
     ]
    },
    {
     "data": {
      "text/html": [
       "<div>\n",
       "<style scoped>\n",
       "    .dataframe tbody tr th:only-of-type {\n",
       "        vertical-align: middle;\n",
       "    }\n",
       "\n",
       "    .dataframe tbody tr th {\n",
       "        vertical-align: top;\n",
       "    }\n",
       "\n",
       "    .dataframe thead th {\n",
       "        text-align: right;\n",
       "    }\n",
       "</style>\n",
       "<table border=\"1\" class=\"dataframe\">\n",
       "  <thead>\n",
       "    <tr style=\"text-align: right;\">\n",
       "      <th></th>\n",
       "      <th>infusionoffset</th>\n",
       "      <th>drugname</th>\n",
       "      <th>drugrate</th>\n",
       "      <th>infusionrate</th>\n",
       "      <th>drugamount</th>\n",
       "      <th>volumeoffluid</th>\n",
       "      <th>patientweight</th>\n",
       "    </tr>\n",
       "    <tr>\n",
       "      <th>patientunitstayid</th>\n",
       "      <th></th>\n",
       "      <th></th>\n",
       "      <th></th>\n",
       "      <th></th>\n",
       "      <th></th>\n",
       "      <th></th>\n",
       "      <th></th>\n",
       "    </tr>\n",
       "  </thead>\n",
       "  <tbody>\n",
       "    <tr>\n",
       "      <th>2090162</th>\n",
       "      <td>24.0</td>\n",
       "      <td>Isoproterenol (ml/hr)</td>\n",
       "      <td>52.5</td>\n",
       "      <td>NaN</td>\n",
       "      <td>NaN</td>\n",
       "      <td>NaN</td>\n",
       "      <td>NaN</td>\n",
       "    </tr>\n",
       "    <tr>\n",
       "      <th>2090162</th>\n",
       "      <td>20.0</td>\n",
       "      <td>Isoproterenol (ml/hr)</td>\n",
       "      <td>67.5</td>\n",
       "      <td>NaN</td>\n",
       "      <td>NaN</td>\n",
       "      <td>NaN</td>\n",
       "      <td>NaN</td>\n",
       "    </tr>\n",
       "    <tr>\n",
       "      <th>2090162</th>\n",
       "      <td>49.0</td>\n",
       "      <td>Isoproterenol (ml/hr)</td>\n",
       "      <td>52.5</td>\n",
       "      <td>NaN</td>\n",
       "      <td>NaN</td>\n",
       "      <td>NaN</td>\n",
       "      <td>NaN</td>\n",
       "    </tr>\n",
       "    <tr>\n",
       "      <th>2090162</th>\n",
       "      <td>81.0</td>\n",
       "      <td>Isoproterenol (ml/hr)</td>\n",
       "      <td>15</td>\n",
       "      <td>NaN</td>\n",
       "      <td>NaN</td>\n",
       "      <td>NaN</td>\n",
       "      <td>NaN</td>\n",
       "    </tr>\n",
       "    <tr>\n",
       "      <th>2090162</th>\n",
       "      <td>76.0</td>\n",
       "      <td>Isoproterenol (ml/hr)</td>\n",
       "      <td>7.5</td>\n",
       "      <td>NaN</td>\n",
       "      <td>NaN</td>\n",
       "      <td>NaN</td>\n",
       "      <td>NaN</td>\n",
       "    </tr>\n",
       "  </tbody>\n",
       "</table>\n",
       "</div>"
      ],
      "text/plain": [
       "                   infusionoffset               drugname drugrate  \\\n",
       "patientunitstayid                                                   \n",
       "2090162                      24.0  Isoproterenol (ml/hr)     52.5   \n",
       "2090162                      20.0  Isoproterenol (ml/hr)     67.5   \n",
       "2090162                      49.0  Isoproterenol (ml/hr)     52.5   \n",
       "2090162                      81.0  Isoproterenol (ml/hr)       15   \n",
       "2090162                      76.0  Isoproterenol (ml/hr)      7.5   \n",
       "\n",
       "                   infusionrate  drugamount  volumeoffluid  patientweight  \n",
       "patientunitstayid                                                          \n",
       "2090162                     NaN         NaN            NaN            NaN  \n",
       "2090162                     NaN         NaN            NaN            NaN  \n",
       "2090162                     NaN         NaN            NaN            NaN  \n",
       "2090162                     NaN         NaN            NaN            NaN  \n",
       "2090162                     NaN         NaN            NaN            NaN  "
      ]
     },
     "metadata": {},
     "output_type": "display_data"
    }
   ],
   "source": [
    "# intersect 'patient' with the other tables. If a patient is not in 'meds' or 'infusion' we'll assume no meds or infusions were administred\n",
    "meds = meds.loc[patient.index]\n",
    "infusion = infusion.loc[patient.index]\n",
    "\n",
    "meds = meds[['drugorderoffset', 'drugstartoffset', 'drugstopoffset', 'drugordercancelled', 'drugname', 'dosage']]\n",
    "meds['drugorderoffset'] = meds['drugorderoffset']/60\n",
    "meds['drugstartoffset'] = meds['drugstartoffset']/60\n",
    "meds['drugstopoffset'] = meds['drugstopoffset']/60\n",
    "\n",
    "infusion = infusion[['infusionoffset', 'drugname', 'drugrate', 'infusionrate', 'drugamount','volumeoffluid', 'patientweight']]\n",
    "infusion['infusionoffset'] = infusion['infusionoffset']/60\n",
    "\n",
    "print('Medications')\n",
    "display.display(meds.head())\n",
    "print()\n",
    "print('Infusions')\n",
    "display.display(infusion.head())\n"
   ]
  },
  {
   "cell_type": "code",
   "execution_count": 37,
   "metadata": {
    "scrolled": false
   },
   "outputs": [
    {
     "name": "stderr",
     "output_type": "stream",
     "text": [
      "/Users/catiasalgado/anaconda3/lib/python3.7/site-packages/ipykernel_launcher.py:12: FutureWarning: \n",
      "Passing list-likes to .loc or [] with any missing label will raise\n",
      "KeyError in the future, you can use .reindex() as an alternative.\n",
      "\n",
      "See the documentation here:\n",
      "https://pandas.pydata.org/pandas-docs/stable/indexing.html#deprecate-loc-reindex-listlike\n",
      "  if sys.path[0] == '':\n",
      "/Users/catiasalgado/anaconda3/lib/python3.7/site-packages/ipykernel_launcher.py:13: FutureWarning: \n",
      "Passing list-likes to .loc or [] with any missing label will raise\n",
      "KeyError in the future, you can use .reindex() as an alternative.\n",
      "\n",
      "See the documentation here:\n",
      "https://pandas.pydata.org/pandas-docs/stable/indexing.html#deprecate-loc-reindex-listlike\n",
      "  del sys.path[0]\n",
      "/Users/catiasalgado/anaconda3/lib/python3.7/site-packages/ipykernel_launcher.py:14: FutureWarning: \n",
      "Passing list-likes to .loc or [] with any missing label will raise\n",
      "KeyError in the future, you can use .reindex() as an alternative.\n",
      "\n",
      "See the documentation here:\n",
      "https://pandas.pydata.org/pandas-docs/stable/indexing.html#deprecate-loc-reindex-listlike\n",
      "  \n"
     ]
    },
    {
     "name": "stdout",
     "output_type": "stream",
     "text": [
      "Number of ICU stays in \n",
      "  vasodilators: 836 (3.38%)\n",
      "  vasopressors and inotropes: 5142 (20.81%)\n",
      "  sedatives: 5779 (23.39%)\n",
      "  beta blockers: 4508 (18.25%)\n",
      "  nonselective calcium channel blockers: 1251 (5.06%)\n",
      "  cardioselective calcium channel blockers: 126 (0.51%)\n",
      "  ACE inhibitors or ARB blockers: 1424 (5.76%)\n",
      "  diuretics: 178 (0.72%)\n"
     ]
    },
    {
     "name": "stderr",
     "output_type": "stream",
     "text": [
      "/Users/catiasalgado/anaconda3/lib/python3.7/site-packages/ipykernel_launcher.py:31: FutureWarning: \n",
      "Passing list-likes to .loc or [] with any missing label will raise\n",
      "KeyError in the future, you can use .reindex() as an alternative.\n",
      "\n",
      "See the documentation here:\n",
      "https://pandas.pydata.org/pandas-docs/stable/indexing.html#deprecate-loc-reindex-listlike\n",
      "/Users/catiasalgado/anaconda3/lib/python3.7/site-packages/ipykernel_launcher.py:32: FutureWarning: \n",
      "Passing list-likes to .loc or [] with any missing label will raise\n",
      "KeyError in the future, you can use .reindex() as an alternative.\n",
      "\n",
      "See the documentation here:\n",
      "https://pandas.pydata.org/pandas-docs/stable/indexing.html#deprecate-loc-reindex-listlike\n",
      "/Users/catiasalgado/anaconda3/lib/python3.7/site-packages/ipykernel_launcher.py:33: FutureWarning: \n",
      "Passing list-likes to .loc or [] with any missing label will raise\n",
      "KeyError in the future, you can use .reindex() as an alternative.\n",
      "\n",
      "See the documentation here:\n",
      "https://pandas.pydata.org/pandas-docs/stable/indexing.html#deprecate-loc-reindex-listlike\n",
      "/Users/catiasalgado/anaconda3/lib/python3.7/site-packages/ipykernel_launcher.py:34: FutureWarning: \n",
      "Passing list-likes to .loc or [] with any missing label will raise\n",
      "KeyError in the future, you can use .reindex() as an alternative.\n",
      "\n",
      "See the documentation here:\n",
      "https://pandas.pydata.org/pandas-docs/stable/indexing.html#deprecate-loc-reindex-listlike\n",
      "/Users/catiasalgado/anaconda3/lib/python3.7/site-packages/ipykernel_launcher.py:35: FutureWarning: \n",
      "Passing list-likes to .loc or [] with any missing label will raise\n",
      "KeyError in the future, you can use .reindex() as an alternative.\n",
      "\n",
      "See the documentation here:\n",
      "https://pandas.pydata.org/pandas-docs/stable/indexing.html#deprecate-loc-reindex-listlike\n"
     ]
    },
    {
     "data": {
      "text/html": [
       "<div>\n",
       "<style scoped>\n",
       "    .dataframe tbody tr th:only-of-type {\n",
       "        vertical-align: middle;\n",
       "    }\n",
       "\n",
       "    .dataframe tbody tr th {\n",
       "        vertical-align: top;\n",
       "    }\n",
       "\n",
       "    .dataframe thead th {\n",
       "        text-align: right;\n",
       "    }\n",
       "</style>\n",
       "<table border=\"1\" class=\"dataframe\">\n",
       "  <thead>\n",
       "    <tr style=\"text-align: right;\">\n",
       "      <th></th>\n",
       "      <th>patienthealthsystemstayid</th>\n",
       "      <th>gender</th>\n",
       "      <th>age</th>\n",
       "      <th>ethnicity</th>\n",
       "      <th>hospitalid</th>\n",
       "      <th>wardid</th>\n",
       "      <th>apacheadmissiondx</th>\n",
       "      <th>admissionheight</th>\n",
       "      <th>hospitaladmittime24</th>\n",
       "      <th>hospitaladmitoffset</th>\n",
       "      <th>...</th>\n",
       "      <th>mech_vent</th>\n",
       "      <th>angus</th>\n",
       "      <th>vasodilators</th>\n",
       "      <th>vaso_ino</th>\n",
       "      <th>sedatives</th>\n",
       "      <th>B_blockers</th>\n",
       "      <th>NonSel_CCB</th>\n",
       "      <th>Sel_CCB</th>\n",
       "      <th>ACE_ARB</th>\n",
       "      <th>diuretics</th>\n",
       "    </tr>\n",
       "    <tr>\n",
       "      <th>patientunitstayid</th>\n",
       "      <th></th>\n",
       "      <th></th>\n",
       "      <th></th>\n",
       "      <th></th>\n",
       "      <th></th>\n",
       "      <th></th>\n",
       "      <th></th>\n",
       "      <th></th>\n",
       "      <th></th>\n",
       "      <th></th>\n",
       "      <th></th>\n",
       "      <th></th>\n",
       "      <th></th>\n",
       "      <th></th>\n",
       "      <th></th>\n",
       "      <th></th>\n",
       "      <th></th>\n",
       "      <th></th>\n",
       "      <th></th>\n",
       "      <th></th>\n",
       "      <th></th>\n",
       "    </tr>\n",
       "  </thead>\n",
       "  <tbody>\n",
       "    <tr>\n",
       "      <th>2090162</th>\n",
       "      <td>1657211</td>\n",
       "      <td>1</td>\n",
       "      <td>84.0</td>\n",
       "      <td>African American</td>\n",
       "      <td>300</td>\n",
       "      <td>809</td>\n",
       "      <td>Rhythm disturbance (conduction defect)</td>\n",
       "      <td>182.9</td>\n",
       "      <td>08:55:19</td>\n",
       "      <td>-5</td>\n",
       "      <td>...</td>\n",
       "      <td>0</td>\n",
       "      <td>0</td>\n",
       "      <td>0</td>\n",
       "      <td>0</td>\n",
       "      <td>0</td>\n",
       "      <td>0</td>\n",
       "      <td>0</td>\n",
       "      <td>0</td>\n",
       "      <td>0</td>\n",
       "      <td>0</td>\n",
       "    </tr>\n",
       "    <tr>\n",
       "      <th>2090080</th>\n",
       "      <td>1657141</td>\n",
       "      <td>0</td>\n",
       "      <td>73.0</td>\n",
       "      <td>NaN</td>\n",
       "      <td>301</td>\n",
       "      <td>798</td>\n",
       "      <td>Graft, femoral-popliteal bypass</td>\n",
       "      <td>154.0</td>\n",
       "      <td>18:08:00</td>\n",
       "      <td>-109</td>\n",
       "      <td>...</td>\n",
       "      <td>0</td>\n",
       "      <td>0</td>\n",
       "      <td>0</td>\n",
       "      <td>1</td>\n",
       "      <td>0</td>\n",
       "      <td>0</td>\n",
       "      <td>0</td>\n",
       "      <td>0</td>\n",
       "      <td>0</td>\n",
       "      <td>0</td>\n",
       "    </tr>\n",
       "    <tr>\n",
       "      <th>2089807</th>\n",
       "      <td>1656925</td>\n",
       "      <td>1</td>\n",
       "      <td>79.0</td>\n",
       "      <td>Caucasian</td>\n",
       "      <td>318</td>\n",
       "      <td>794</td>\n",
       "      <td>CHF, congestive heart failure</td>\n",
       "      <td>178.1</td>\n",
       "      <td>04:42:00</td>\n",
       "      <td>-2619</td>\n",
       "      <td>...</td>\n",
       "      <td>0</td>\n",
       "      <td>0</td>\n",
       "      <td>0</td>\n",
       "      <td>0</td>\n",
       "      <td>0</td>\n",
       "      <td>0</td>\n",
       "      <td>0</td>\n",
       "      <td>0</td>\n",
       "      <td>0</td>\n",
       "      <td>0</td>\n",
       "    </tr>\n",
       "    <tr>\n",
       "      <th>2090451</th>\n",
       "      <td>1657436</td>\n",
       "      <td>0</td>\n",
       "      <td>82.0</td>\n",
       "      <td>Caucasian</td>\n",
       "      <td>300</td>\n",
       "      <td>772</td>\n",
       "      <td>Neoplasm, neurologic</td>\n",
       "      <td>162.6</td>\n",
       "      <td>09:21:44</td>\n",
       "      <td>-1</td>\n",
       "      <td>...</td>\n",
       "      <td>0</td>\n",
       "      <td>0</td>\n",
       "      <td>0</td>\n",
       "      <td>0</td>\n",
       "      <td>0</td>\n",
       "      <td>0</td>\n",
       "      <td>0</td>\n",
       "      <td>0</td>\n",
       "      <td>0</td>\n",
       "      <td>0</td>\n",
       "    </tr>\n",
       "    <tr>\n",
       "      <th>2088960</th>\n",
       "      <td>1656284</td>\n",
       "      <td>0</td>\n",
       "      <td>67.0</td>\n",
       "      <td>NaN</td>\n",
       "      <td>301</td>\n",
       "      <td>798</td>\n",
       "      <td>Thrombosis, vascular (deep vein)</td>\n",
       "      <td>172.1</td>\n",
       "      <td>00:35:00</td>\n",
       "      <td>-19</td>\n",
       "      <td>...</td>\n",
       "      <td>0</td>\n",
       "      <td>0</td>\n",
       "      <td>0</td>\n",
       "      <td>0</td>\n",
       "      <td>0</td>\n",
       "      <td>0</td>\n",
       "      <td>0</td>\n",
       "      <td>0</td>\n",
       "      <td>0</td>\n",
       "      <td>0</td>\n",
       "    </tr>\n",
       "  </tbody>\n",
       "</table>\n",
       "<p>5 rows × 66 columns</p>\n",
       "</div>"
      ],
      "text/plain": [
       "                   patienthealthsystemstayid  gender   age         ethnicity  \\\n",
       "patientunitstayid                                                              \n",
       "2090162                              1657211       1  84.0  African American   \n",
       "2090080                              1657141       0  73.0               NaN   \n",
       "2089807                              1656925       1  79.0         Caucasian   \n",
       "2090451                              1657436       0  82.0         Caucasian   \n",
       "2088960                              1656284       0  67.0               NaN   \n",
       "\n",
       "                   hospitalid  wardid                       apacheadmissiondx  \\\n",
       "patientunitstayid                                                               \n",
       "2090162                   300     809  Rhythm disturbance (conduction defect)   \n",
       "2090080                   301     798         Graft, femoral-popliteal bypass   \n",
       "2089807                   318     794           CHF, congestive heart failure   \n",
       "2090451                   300     772                    Neoplasm, neurologic   \n",
       "2088960                   301     798        Thrombosis, vascular (deep vein)   \n",
       "\n",
       "                   admissionheight hospitaladmittime24  hospitaladmitoffset  \\\n",
       "patientunitstayid                                                             \n",
       "2090162                      182.9            08:55:19                   -5   \n",
       "2090080                      154.0            18:08:00                 -109   \n",
       "2089807                      178.1            04:42:00                -2619   \n",
       "2090451                      162.6            09:21:44                   -1   \n",
       "2088960                      172.1            00:35:00                  -19   \n",
       "\n",
       "                   ... mech_vent  angus vasodilators  vaso_ino sedatives  \\\n",
       "patientunitstayid  ...                                                     \n",
       "2090162            ...         0      0            0         0         0   \n",
       "2090080            ...         0      0            0         1         0   \n",
       "2089807            ...         0      0            0         0         0   \n",
       "2090451            ...         0      0            0         0         0   \n",
       "2088960            ...         0      0            0         0         0   \n",
       "\n",
       "                   B_blockers NonSel_CCB Sel_CCB ACE_ARB  diuretics  \n",
       "patientunitstayid                                                    \n",
       "2090162                     0          0       0       0          0  \n",
       "2090080                     0          0       0       0          0  \n",
       "2089807                     0          0       0       0          0  \n",
       "2090451                     0          0       0       0          0  \n",
       "2088960                     0          0       0       0          0  \n",
       "\n",
       "[5 rows x 66 columns]"
      ]
     },
     "execution_count": 37,
     "metadata": {},
     "output_type": "execute_result"
    }
   ],
   "source": [
    "import re\n",
    "import math \n",
    "\n",
    "## INFUSIONS\n",
    "infusion = infusion[infusion['infusionoffset'] <= 24]\n",
    "\n",
    "# from the infusionDrug table we are going to extract 3 categories\n",
    "vasodilators = infusion[infusion['drugname'].str.contains('nitroprusside|nitride|nitroglycerin|nesiritide',flags=re.IGNORECASE, na=False)]\n",
    "vaso_ino = infusion[infusion['drugname'].str.contains('epinephrine|adrenaline|norepinephrine|levophed|dobutamine|dobutrex|vasopressin|isoprotenerol|isuprel|phenylephrine|neo-synephrine',flags=re.IGNORECASE, na=False)]\n",
    "sedatives = infusion[infusion['drugname'].str.contains('dexmedetomidine|precedex|propofol|midazolam',flags=re.IGNORECASE, na=False)]\n",
    "\n",
    "patient['vasodilators'] = vasodilators.loc[patient.index]['infusionoffset'].groupby(['patientunitstayid']).mean()\n",
    "patient['vaso_ino'] = vaso_ino.loc[patient.index]['infusionoffset'].groupby(['patientunitstayid']).mean()\n",
    "patient['sedatives'] = sedatives.loc[patient.index]['infusionoffset'].groupby(['patientunitstayid']).mean()\n",
    "\n",
    "patient['vasodilators'] = patient['vasodilators'].apply(lambda x: 0 if math.isnan(x) else 1)\n",
    "patient['vaso_ino'] = patient['vaso_ino'].apply(lambda x: 0 if math.isnan(x) else 1)\n",
    "patient['sedatives'] = patient['sedatives'].apply(lambda x: 0 if math.isnan(x) else 1)\n",
    "\n",
    "## MEDICATIONS\n",
    "meds = meds[meds['drugstartoffset'] <= 24]\n",
    "\n",
    "\n",
    "# from the medication table we are going to extract 5 categories\n",
    "B_blockers = meds[meds['drugname'].str.contains('Acebutolol|Atenolol|Bisoprolol|Metoprolol|Nadolol|Nebivolol|Propranolol|Sectral|Tenormin|Zebeta|Lopressor|Toprol|Corgard|Bystolic|Inderal|InnoPran',flags=re.IGNORECASE, na=False)]\n",
    "NonSel_CCB = meds[meds['drugname'].str.contains('Amlodipine|Norvasc|Felodipine|Isradipine|Nicardipine|Nifedipine|Adalat|Afeditab|Procardia|Nisoldipine|Sular',flags=re.IGNORECASE, na=False)]\n",
    "Sel_CCB = meds[meds['drugname'].str.contains('Verapamil|Calan|Verelan|Cardizem|Tiazac',flags=re.IGNORECASE, na=False)]\n",
    "ACE_ARB = meds[meds['drugname'].str.contains('Benazepril|Lotensin|Captopril|Enalapril|Vasotec|Fosinopril|Lisinopril|Prinivil|Zestril|Moexipril|Perindopril|Aceon|Quinapril|Accupril|Ramipril|Altace|Trandolapril|Mavik|Azilsartan|Edarbi|Candesartan|Atacand|Eprosartan|Irbesartan|Avapro|Losartan|Cozaar|Olmesartan|Benicar|Telmisartan|Micardis|Valsartan|Diovan',flags=re.IGNORECASE, na=False)]\n",
    "diuretics = meds[meds['drugname'].str.contains('Chlorothiazide|Diuril|Chlorthalidone|Hydrochlorothiazide|Microzide|Indapamide|Metolazone',flags=re.IGNORECASE, na=False)]\n",
    "\n",
    "patient['B_blockers'] = B_blockers.loc[patient.index]['drugstartoffset'].groupby(['patientunitstayid']).mean()\n",
    "patient['NonSel_CCB'] = NonSel_CCB.loc[patient.index]['drugstartoffset'].groupby(['patientunitstayid']).mean()\n",
    "patient['Sel_CCB'] = Sel_CCB.loc[patient.index]['drugstartoffset'].groupby(['patientunitstayid']).mean()\n",
    "patient['ACE_ARB'] = ACE_ARB.loc[patient.index]['drugstartoffset'].groupby(['patientunitstayid']).mean()\n",
    "patient['diuretics'] = diuretics.loc[patient.index]['drugstartoffset'].groupby(['patientunitstayid']).mean()\n",
    "\n",
    "patient['B_blockers'] = patient['B_blockers'].apply(lambda x: 0 if math.isnan(x) else 1)\n",
    "patient['NonSel_CCB'] = patient['NonSel_CCB'].apply(lambda x: 0 if math.isnan(x) else 1)\n",
    "patient['Sel_CCB'] = patient['Sel_CCB'].apply(lambda x: 0 if math.isnan(x) else 1)\n",
    "patient['ACE_ARB'] = patient['ACE_ARB'].apply(lambda x: 0 if math.isnan(x) else 1)\n",
    "patient['diuretics'] = patient['diuretics'].apply(lambda x: 0 if math.isnan(x) else 1)\n",
    "\n",
    "numStays = len(patient.index.unique())\n",
    "\n",
    "print('Number of ICU stays in ')\n",
    "print('  vasodilators: ' + str(sum(patient['vasodilators'])) + ' (' + str(round(sum(patient['vasodilators'])*100/numStays,2)) + '%)')\n",
    "print('  vasopressors and inotropes: ' + str(sum(patient['vaso_ino'])) + ' (' + str(round(sum(patient['vaso_ino'])*100/numStays,2)) + '%)')\n",
    "print('  sedatives: ' + str(sum(patient['sedatives'])) + ' (' + str(round(sum(patient['sedatives'])*100/numStays,2)) + '%)')\n",
    "\n",
    "print('  beta blockers: ' + str(sum(patient['B_blockers'])) + ' (' + str(round(sum(patient['B_blockers'])*100/numStays,2)) + '%)')\n",
    "print('  nonselective calcium channel blockers: ' + str(sum(patient['NonSel_CCB'])) + ' (' + str(round(sum(patient['NonSel_CCB'])*100/numStays,2)) + '%)')\n",
    "print('  cardioselective calcium channel blockers: ' + str(sum(patient['Sel_CCB'])) + ' (' + str(round(sum(patient['Sel_CCB'])*100/numStays,2)) + '%)')\n",
    "print('  ACE inhibitors or ARB blockers: ' + str(sum(patient['ACE_ARB'])) + ' (' + str(round(sum(patient['ACE_ARB'])*100/numStays,2)) + '%)')\n",
    "print('  diuretics: ' + str(sum(patient['diuretics'])) + ' (' + str(round(sum(patient['diuretics'])*100/numStays,2)) + '%)')\n",
    "\n",
    "patient.head()\n",
    "\n"
   ]
  },
  {
   "cell_type": "markdown",
   "metadata": {},
   "source": [
    "# 5. Calculate the median <a class=\"anchor\" id=\"5\"></a>\n",
    "\n",
    "To allow for ease of comparison, individual data is condensed into hourly measurements by selecting the median value of the available measurements within each hour. \n"
   ]
  },
  {
   "cell_type": "code",
   "execution_count": 38,
   "metadata": {},
   "outputs": [
    {
     "data": {
      "text/plain": [
       "array(['021-', '022-', '018-', '025-', '024-', '027-', '016-', '017-',\n",
       "       '015-', '031-', '030-', '032-', '029-', '035-', '033-', '028-',\n",
       "       '006-', '005-', '007-', '002-', '003-', '004-', '011-', '008-',\n",
       "       '010-', '009-', '013-', '012-'], dtype=object)"
      ]
     },
     "metadata": {},
     "output_type": "display_data"
    }
   ],
   "source": [
    "display.display(patient['uniquepid'].str[0:4].unique())\n",
    "patient['uniquepid'] = patient['uniquepid'].apply(lambda x: x.replace('-',''))\n",
    "patient['uniquepid'] = patient['uniquepid'].astype(int) \n"
   ]
  },
  {
   "cell_type": "code",
   "execution_count": 39,
   "metadata": {
    "scrolled": false
   },
   "outputs": [],
   "source": [
    "data_median_hourSinceAdm = data.groupby(['patientunitstayid','Day','hourSinceAdm'])[['noninvasivemean', \n",
    "                                                                                     'hourofDay']].median()\n"
   ]
  },
  {
   "cell_type": "code",
   "execution_count": 40,
   "metadata": {},
   "outputs": [
    {
     "data": {
      "text/html": [
       "<div>\n",
       "<style scoped>\n",
       "    .dataframe tbody tr th:only-of-type {\n",
       "        vertical-align: middle;\n",
       "    }\n",
       "\n",
       "    .dataframe tbody tr th {\n",
       "        vertical-align: top;\n",
       "    }\n",
       "\n",
       "    .dataframe thead th {\n",
       "        text-align: right;\n",
       "    }\n",
       "</style>\n",
       "<table border=\"1\" class=\"dataframe\">\n",
       "  <thead>\n",
       "    <tr style=\"text-align: right;\">\n",
       "      <th></th>\n",
       "      <th>Day</th>\n",
       "      <th>hourSinceAdm</th>\n",
       "      <th>noninvasivemean</th>\n",
       "      <th>hourofDay</th>\n",
       "      <th>uniquepid</th>\n",
       "    </tr>\n",
       "    <tr>\n",
       "      <th>patientunitstayid</th>\n",
       "      <th></th>\n",
       "      <th></th>\n",
       "      <th></th>\n",
       "      <th></th>\n",
       "      <th></th>\n",
       "    </tr>\n",
       "  </thead>\n",
       "  <tbody>\n",
       "    <tr>\n",
       "      <th>141233</th>\n",
       "      <td>1.0</td>\n",
       "      <td>0.0</td>\n",
       "      <td>78.0</td>\n",
       "      <td>17.0</td>\n",
       "      <td>28979</td>\n",
       "    </tr>\n",
       "    <tr>\n",
       "      <th>141233</th>\n",
       "      <td>1.0</td>\n",
       "      <td>1.0</td>\n",
       "      <td>71.5</td>\n",
       "      <td>18.0</td>\n",
       "      <td>28979</td>\n",
       "    </tr>\n",
       "    <tr>\n",
       "      <th>141233</th>\n",
       "      <td>1.0</td>\n",
       "      <td>2.0</td>\n",
       "      <td>71.0</td>\n",
       "      <td>19.0</td>\n",
       "      <td>28979</td>\n",
       "    </tr>\n",
       "    <tr>\n",
       "      <th>141233</th>\n",
       "      <td>1.0</td>\n",
       "      <td>3.0</td>\n",
       "      <td>65.0</td>\n",
       "      <td>20.0</td>\n",
       "      <td>28979</td>\n",
       "    </tr>\n",
       "    <tr>\n",
       "      <th>141233</th>\n",
       "      <td>1.0</td>\n",
       "      <td>4.0</td>\n",
       "      <td>71.0</td>\n",
       "      <td>21.0</td>\n",
       "      <td>28979</td>\n",
       "    </tr>\n",
       "  </tbody>\n",
       "</table>\n",
       "</div>"
      ],
      "text/plain": [
       "                   Day  hourSinceAdm  noninvasivemean  hourofDay  uniquepid\n",
       "patientunitstayid                                                          \n",
       "141233             1.0           0.0             78.0       17.0      28979\n",
       "141233             1.0           1.0             71.5       18.0      28979\n",
       "141233             1.0           2.0             71.0       19.0      28979\n",
       "141233             1.0           3.0             65.0       20.0      28979\n",
       "141233             1.0           4.0             71.0       21.0      28979"
      ]
     },
     "execution_count": 40,
     "metadata": {},
     "output_type": "execute_result"
    }
   ],
   "source": [
    "data_median_hourSinceAdm = data_median_hourSinceAdm.reset_index(level=(1,2), drop = False)\n",
    "\n",
    "data_median_hourSinceAdm['uniquepid'] = patient.loc[data_median_hourSinceAdm.index]['uniquepid']\n",
    "\n",
    "data_median_hourSinceAdm.head()"
   ]
  },
  {
   "cell_type": "code",
   "execution_count": 41,
   "metadata": {},
   "outputs": [
    {
     "data": {
      "text/plain": [
       "24708"
      ]
     },
     "execution_count": 41,
     "metadata": {},
     "output_type": "execute_result"
    }
   ],
   "source": [
    "data_median_hourSinceAdm.index.nunique()"
   ]
  },
  {
   "cell_type": "markdown",
   "metadata": {},
   "source": [
    "## 5.1. Plot <a class=\"anchor\" id=\"51\"></a>\n"
   ]
  },
  {
   "cell_type": "code",
   "execution_count": 42,
   "metadata": {},
   "outputs": [
    {
     "data": {
      "image/png": "[encoded data removed]",
      "text/plain": [
       "<Figure size 432x288 with 1 Axes>"
      ]
     },
     "metadata": {
      "needs_background": "light"
     },
     "output_type": "display_data"
    },
    {
     "data": {
      "image/png": "[encoded data removed]",
      "text/plain": [
       "<Figure size 432x288 with 1 Axes>"
      ]
     },
     "metadata": {
      "needs_background": "light"
     },
     "output_type": "display_data"
    }
   ],
   "source": [
    "def plot_meanMAP(hourSinceAdm):\n",
    "    #hourSinceAdm = hourSinceAdm.reset_index(level=(1), drop = False)\n",
    "\n",
    "    hourSinceAdm['mortality'] = patient.loc[hourSinceAdm.index]['mortality']\n",
    "    hourSinceAdm['sepsis'] = patient.loc[hourSinceAdm.index]['angus']\n",
    "    hourSinceAdm['apache'] = patient.loc[hourSinceAdm.index]['apachescore']\n",
    "    hourSinceAdm['gender'] = patient.loc[hourSinceAdm.index]['gender']\n",
    "\n",
    "    plt.plot(hourSinceAdm[(hourSinceAdm['sepsis']==1) & (hourSinceAdm['mortality']==1)].groupby(['hourSinceAdm'])[['noninvasivemean']].mean())\n",
    "    plt.plot(hourSinceAdm[(hourSinceAdm['sepsis']==1) & (hourSinceAdm['mortality']==0)].groupby(['hourSinceAdm'])[['noninvasivemean']].mean())\n",
    "    plt.legend(['Sepsis non-survivors', 'Sepsis survivors'])\n",
    "    plt.xlim(0,144)\n",
    "    plt.ylim(72,87)\n",
    "    plt.show()\n",
    "\n",
    "    plt.plot(hourSinceAdm[(hourSinceAdm['sepsis']==0) & (hourSinceAdm['mortality']==1)].groupby(['hourSinceAdm'])[['noninvasivemean']].mean())\n",
    "    plt.plot(hourSinceAdm[(hourSinceAdm['sepsis']==0) & (hourSinceAdm['mortality']==0)].groupby(['hourSinceAdm'])[['noninvasivemean']].mean())\n",
    "    plt.legend(['Non-sepsis non-survivors', 'Non-sepsis survivors'])\n",
    "    plt.xlim(0,144)\n",
    "    plt.ylim(72,87)\n",
    "    plt.show()\n",
    "\n",
    "    \n",
    "plot_meanMAP(data_median_hourSinceAdm)\n"
   ]
  },
  {
   "cell_type": "markdown",
   "metadata": {},
   "source": [
    "# 6. Save the preprocessed data <a class=\"anchor\" id=\"6\"></a>"
   ]
  },
  {
   "cell_type": "code",
   "execution_count": 43,
   "metadata": {},
   "outputs": [],
   "source": [
    "patient.to_csv('patient_data_extraction.csv')\n",
    "data.to_csv('map_data_extraction.csv')\n",
    "data_median_hourSinceAdm.to_csv('map_median.csv')"
   ]
  }
 ],
 "metadata": {
  "kernelspec": {
   "display_name": "Python 3",
   "language": "python",
   "name": "python3"
  },
  "language_info": {
   "codemirror_mode": {
    "name": "ipython",
    "version": 3
   },
   "file_extension": ".py",
   "mimetype": "text/x-python",
   "name": "python",
   "nbconvert_exporter": "python",
   "pygments_lexer": "ipython3",
   "version": "3.7.3"
  }
 },
 "nbformat": 4,
 "nbformat_minor": 2
}
